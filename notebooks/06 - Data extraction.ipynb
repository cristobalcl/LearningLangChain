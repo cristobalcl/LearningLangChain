{
 "cells": [
  {
   "cell_type": "markdown",
   "id": "b385fdc6-cecc-4564-ab12-85f494a00781",
   "metadata": {},
   "source": [
    "# LangChain - Multiple retrievers"
   ]
  },
  {
   "cell_type": "markdown",
   "id": "e1335d52-d456-4ae3-9058-c0c135b1acee",
   "metadata": {
    "tags": []
   },
   "source": [
    "## Install dependencies"
   ]
  },
  {
   "cell_type": "code",
   "execution_count": 1,
   "id": "24b0f6cb-2820-4f7e-8081-4de2809a1807",
   "metadata": {
    "tags": []
   },
   "outputs": [
    {
     "name": "stdout",
     "output_type": "stream",
     "text": [
      "Requirement already satisfied: langchain in /opt/conda/lib/python3.9/site-packages (0.0.233)\n",
      "Requirement already satisfied: openapi-schema-pydantic<2.0,>=1.2 in /opt/conda/lib/python3.9/site-packages (from langchain) (1.2.4)\n",
      "Requirement already satisfied: async-timeout<5.0.0,>=4.0.0 in /opt/conda/lib/python3.9/site-packages (from langchain) (4.0.2)\n",
      "Requirement already satisfied: numpy<2,>=1 in /opt/conda/lib/python3.9/site-packages (from langchain) (1.23.3)\n",
      "Requirement already satisfied: SQLAlchemy<3,>=1.4 in /opt/conda/lib/python3.9/site-packages (from langchain) (1.4.41)\n",
      "Requirement already satisfied: pydantic<2,>=1 in /opt/conda/lib/python3.9/site-packages (from langchain) (1.10.11)\n",
      "Requirement already satisfied: tenacity<9.0.0,>=8.1.0 in /opt/conda/lib/python3.9/site-packages (from langchain) (8.2.2)\n",
      "Requirement already satisfied: aiohttp<4.0.0,>=3.8.3 in /opt/conda/lib/python3.9/site-packages (from langchain) (3.8.4)\n",
      "Requirement already satisfied: numexpr<3.0.0,>=2.8.4 in /opt/conda/lib/python3.9/site-packages (from langchain) (2.8.4)\n",
      "Requirement already satisfied: requests<3,>=2 in /opt/conda/lib/python3.9/site-packages (from langchain) (2.28.1)\n",
      "Requirement already satisfied: PyYAML>=5.4.1 in /opt/conda/lib/python3.9/site-packages (from langchain) (6.0)\n",
      "Requirement already satisfied: dataclasses-json<0.6.0,>=0.5.7 in /opt/conda/lib/python3.9/site-packages (from langchain) (0.5.9)\n",
      "Requirement already satisfied: langsmith<0.0.6,>=0.0.5 in /opt/conda/lib/python3.9/site-packages (from langchain) (0.0.5)\n",
      "Requirement already satisfied: attrs>=17.3.0 in /opt/conda/lib/python3.9/site-packages (from aiohttp<4.0.0,>=3.8.3->langchain) (22.1.0)\n",
      "Requirement already satisfied: aiosignal>=1.1.2 in /opt/conda/lib/python3.9/site-packages (from aiohttp<4.0.0,>=3.8.3->langchain) (1.3.1)\n",
      "Requirement already satisfied: frozenlist>=1.1.1 in /opt/conda/lib/python3.9/site-packages (from aiohttp<4.0.0,>=3.8.3->langchain) (1.4.0)\n",
      "Requirement already satisfied: yarl<2.0,>=1.0 in /opt/conda/lib/python3.9/site-packages (from aiohttp<4.0.0,>=3.8.3->langchain) (1.9.2)\n",
      "Requirement already satisfied: multidict<7.0,>=4.5 in /opt/conda/lib/python3.9/site-packages (from aiohttp<4.0.0,>=3.8.3->langchain) (6.0.4)\n",
      "Requirement already satisfied: charset-normalizer<4.0,>=2.0 in /opt/conda/lib/python3.9/site-packages (from aiohttp<4.0.0,>=3.8.3->langchain) (2.1.1)\n",
      "Requirement already satisfied: marshmallow-enum<2.0.0,>=1.5.1 in /opt/conda/lib/python3.9/site-packages (from dataclasses-json<0.6.0,>=0.5.7->langchain) (1.5.1)\n",
      "Requirement already satisfied: typing-inspect>=0.4.0 in /opt/conda/lib/python3.9/site-packages (from dataclasses-json<0.6.0,>=0.5.7->langchain) (0.9.0)\n",
      "Requirement already satisfied: marshmallow<4.0.0,>=3.3.0 in /opt/conda/lib/python3.9/site-packages (from dataclasses-json<0.6.0,>=0.5.7->langchain) (3.19.0)\n",
      "Requirement already satisfied: typing-extensions>=4.2.0 in /opt/conda/lib/python3.9/site-packages (from pydantic<2,>=1->langchain) (4.7.1)\n",
      "Requirement already satisfied: urllib3<1.27,>=1.21.1 in /opt/conda/lib/python3.9/site-packages (from requests<3,>=2->langchain) (1.26.11)\n",
      "Requirement already satisfied: certifi>=2017.4.17 in /opt/conda/lib/python3.9/site-packages (from requests<3,>=2->langchain) (2022.9.24)\n",
      "Requirement already satisfied: idna<4,>=2.5 in /opt/conda/lib/python3.9/site-packages (from requests<3,>=2->langchain) (3.4)\n",
      "Requirement already satisfied: greenlet!=0.4.17 in /opt/conda/lib/python3.9/site-packages (from SQLAlchemy<3,>=1.4->langchain) (1.1.3)\n",
      "Requirement already satisfied: packaging>=17.0 in /opt/conda/lib/python3.9/site-packages (from marshmallow<4.0.0,>=3.3.0->dataclasses-json<0.6.0,>=0.5.7->langchain) (21.3)\n",
      "Requirement already satisfied: mypy-extensions>=0.3.0 in /opt/conda/lib/python3.9/site-packages (from typing-inspect>=0.4.0->dataclasses-json<0.6.0,>=0.5.7->langchain) (1.0.0)\n",
      "Requirement already satisfied: pyparsing!=3.0.5,>=2.0.2 in /opt/conda/lib/python3.9/site-packages (from packaging>=17.0->marshmallow<4.0.0,>=3.3.0->dataclasses-json<0.6.0,>=0.5.7->langchain) (3.0.9)\n",
      "Requirement already satisfied: openai in /opt/conda/lib/python3.9/site-packages (0.27.8)\n",
      "Requirement already satisfied: aiohttp in /opt/conda/lib/python3.9/site-packages (from openai) (3.8.4)\n",
      "Requirement already satisfied: tqdm in /opt/conda/lib/python3.9/site-packages (from openai) (4.64.1)\n",
      "Requirement already satisfied: requests>=2.20 in /opt/conda/lib/python3.9/site-packages (from openai) (2.28.1)\n",
      "Requirement already satisfied: idna<4,>=2.5 in /opt/conda/lib/python3.9/site-packages (from requests>=2.20->openai) (3.4)\n",
      "Requirement already satisfied: urllib3<1.27,>=1.21.1 in /opt/conda/lib/python3.9/site-packages (from requests>=2.20->openai) (1.26.11)\n",
      "Requirement already satisfied: charset-normalizer<3,>=2 in /opt/conda/lib/python3.9/site-packages (from requests>=2.20->openai) (2.1.1)\n",
      "Requirement already satisfied: certifi>=2017.4.17 in /opt/conda/lib/python3.9/site-packages (from requests>=2.20->openai) (2022.9.24)\n",
      "Requirement already satisfied: aiosignal>=1.1.2 in /opt/conda/lib/python3.9/site-packages (from aiohttp->openai) (1.3.1)\n",
      "Requirement already satisfied: async-timeout<5.0,>=4.0.0a3 in /opt/conda/lib/python3.9/site-packages (from aiohttp->openai) (4.0.2)\n",
      "Requirement already satisfied: attrs>=17.3.0 in /opt/conda/lib/python3.9/site-packages (from aiohttp->openai) (22.1.0)\n",
      "Requirement already satisfied: multidict<7.0,>=4.5 in /opt/conda/lib/python3.9/site-packages (from aiohttp->openai) (6.0.4)\n",
      "Requirement already satisfied: yarl<2.0,>=1.0 in /opt/conda/lib/python3.9/site-packages (from aiohttp->openai) (1.9.2)\n",
      "Requirement already satisfied: frozenlist>=1.1.1 in /opt/conda/lib/python3.9/site-packages (from aiohttp->openai) (1.4.0)\n",
      "Requirement already satisfied: pydantic in /opt/conda/lib/python3.9/site-packages (1.10.11)\n",
      "Requirement already satisfied: typing-extensions>=4.2.0 in /opt/conda/lib/python3.9/site-packages (from pydantic) (4.7.1)\n",
      "Requirement already satisfied: python-dotenv in /opt/conda/lib/python3.9/site-packages (1.0.0)\n"
     ]
    }
   ],
   "source": [
    "!pip install langchain\n",
    "!pip install openai\n",
    "!pip install pydantic\n",
    "!pip install python-dotenv"
   ]
  },
  {
   "cell_type": "markdown",
   "id": "8babb007-8d92-4eb8-9964-dc0d23e7f236",
   "metadata": {
    "tags": []
   },
   "source": [
    "## Load environment variables\n",
    "\n",
    "Change the path if necessary (read `README.md` first and follow the instructions to setup the `.env` file):"
   ]
  },
  {
   "cell_type": "code",
   "execution_count": 2,
   "id": "68173a51-4762-42f3-9049-277fe79ab62a",
   "metadata": {},
   "outputs": [],
   "source": [
    "import os\n",
    "os.chdir(\"/home/jovyan/work/\")"
   ]
  },
  {
   "cell_type": "code",
   "execution_count": 3,
   "id": "9ba55308-dc1a-4cf7-ad0f-e27330c951ed",
   "metadata": {},
   "outputs": [],
   "source": [
    "%load_ext dotenv\n",
    "%dotenv"
   ]
  },
  {
   "cell_type": "markdown",
   "id": "e55d879a-1a81-42b3-a70b-a59e0d3730ca",
   "metadata": {},
   "source": [
    "Disable warnings:"
   ]
  },
  {
   "cell_type": "code",
   "execution_count": 4,
   "id": "fe0302ca-0b99-4155-9a6a-401fcaed127c",
   "metadata": {},
   "outputs": [],
   "source": [
    "import warnings\n",
    "warnings.filterwarnings('ignore')"
   ]
  },
  {
   "cell_type": "markdown",
   "id": "91a7880e-d3fc-4485-a875-9133006a2c33",
   "metadata": {},
   "source": [
    "## LangChain"
   ]
  },
  {
   "cell_type": "code",
   "execution_count": 5,
   "id": "f70dd2e8-6dea-49b8-b4f9-26c7d92027fa",
   "metadata": {},
   "outputs": [],
   "source": [
    "from langchain.llms import OpenAI\n",
    "from langchain.prompts import PromptTemplate\n",
    "from langchain.output_parsers import PydanticOutputParser\n",
    "from pydantic import BaseModel, Field, validator"
   ]
  },
  {
   "cell_type": "code",
   "execution_count": 6,
   "id": "83a9d58a-44a3-4937-b985-c19d15028880",
   "metadata": {},
   "outputs": [],
   "source": [
    "model = OpenAI(temperature=0.0)"
   ]
  },
  {
   "cell_type": "markdown",
   "id": "7d3bb99a-d936-4e06-b890-d831fea5b290",
   "metadata": {},
   "source": [
    "Format we want for the output:"
   ]
  },
  {
   "cell_type": "code",
   "execution_count": 7,
   "id": "9cf07bfa-cffe-4937-993a-8b6a40af672f",
   "metadata": {},
   "outputs": [],
   "source": [
    "class Movie(BaseModel):\n",
    "    title: str = Field(description=\"the title of the movie\")\n",
    "    year: str = Field(description=\"year of the movie\")\n",
    "    director: str = Field(description=\"the name of the director of the movie\")"
   ]
  },
  {
   "cell_type": "markdown",
   "id": "c009c3b7-4cb6-4f86-8e2a-ff23ceb61d4c",
   "metadata": {},
   "source": [
    "Create a parser and inject the instructions from this parser into the prompt template:"
   ]
  },
  {
   "cell_type": "code",
   "execution_count": 8,
   "id": "dd4124b3-2d3a-458e-a53b-f2c171c9aa90",
   "metadata": {},
   "outputs": [],
   "source": [
    "parser = PydanticOutputParser(pydantic_object=Movie)\n",
    "\n",
    "prompt = PromptTemplate(\n",
    "    template=\"Recommend the most similar movie to this one (ignore sequels or prequels): {title}\\n{format_instructions}\\n\",\n",
    "    input_variables=[\"title\"],\n",
    "    partial_variables={\"format_instructions\": parser.get_format_instructions()},\n",
    ")\n",
    "\n",
    "def get_similar_movie(title: str) -> Movie:\n",
    "    _input = prompt.format_prompt(title=title)\n",
    "    output = model(_input.to_string())\n",
    "    return parser.parse(output)"
   ]
  },
  {
   "cell_type": "code",
   "execution_count": 9,
   "id": "766582ff-ff3e-4fab-86da-aacf8a246873",
   "metadata": {},
   "outputs": [
    {
     "data": {
      "text/plain": [
       "Movie(title='Armageddon', year='1998', director='Michael Bay')"
      ]
     },
     "execution_count": 9,
     "metadata": {},
     "output_type": "execute_result"
    }
   ],
   "source": [
    "get_similar_movie(\"Deep Impact\")"
   ]
  },
  {
   "cell_type": "code",
   "execution_count": 10,
   "id": "8679c508-7346-41fc-a0ad-d60c6fca4df3",
   "metadata": {},
   "outputs": [
    {
     "data": {
      "text/plain": [
       "Movie(title='Inception', year='2010', director='Christopher Nolan')"
      ]
     },
     "execution_count": 10,
     "metadata": {},
     "output_type": "execute_result"
    }
   ],
   "source": [
    "get_similar_movie(\"Matrix\")"
   ]
  },
  {
   "cell_type": "code",
   "execution_count": 11,
   "id": "6bd645aa-d3b9-4162-b4d0-ff71a06264c2",
   "metadata": {},
   "outputs": [
    {
     "data": {
      "text/plain": [
       "Movie(title='Annie Hall', year='1977', director='Woody Allen')"
      ]
     },
     "execution_count": 11,
     "metadata": {},
     "output_type": "execute_result"
    }
   ],
   "source": [
    "get_similar_movie(\"Manhattan\")"
   ]
  },
  {
   "cell_type": "code",
   "execution_count": 12,
   "id": "24ca2159-181b-4a8b-b25d-2e11330fe1f1",
   "metadata": {},
   "outputs": [
    {
     "data": {
      "text/plain": [
       "Movie(title='District 9', year='2009', director='Neill Blomkamp')"
      ]
     },
     "execution_count": 12,
     "metadata": {},
     "output_type": "execute_result"
    }
   ],
   "source": [
    "get_similar_movie(\"Avatar\")"
   ]
  },
  {
   "cell_type": "markdown",
   "id": "a1ee1d48-3207-4bc2-97c0-07c7a441367e",
   "metadata": {},
   "source": [
    "# Marvin"
   ]
  },
  {
   "cell_type": "code",
   "execution_count": 13,
   "id": "082ecee9-f2e2-4c48-9547-2b94cd3e9625",
   "metadata": {},
   "outputs": [
    {
     "name": "stdout",
     "output_type": "stream",
     "text": [
      "Requirement already satisfied: marvin in /opt/conda/lib/python3.9/site-packages (1.0.2)\n",
      "Requirement already satisfied: uvicorn>=0.22.0 in /opt/conda/lib/python3.9/site-packages (from marvin) (0.23.0)\n",
      "Requirement already satisfied: typer>=0.9.0 in /opt/conda/lib/python3.9/site-packages (from marvin) (0.9.0)\n",
      "Requirement already satisfied: httpx>=0.24.1 in /opt/conda/lib/python3.9/site-packages (from marvin) (0.24.1)\n",
      "Requirement already satisfied: tzdata>=2023.3 in /opt/conda/lib/python3.9/site-packages (from marvin) (2023.3)\n",
      "Requirement already satisfied: rich>=12 in /opt/conda/lib/python3.9/site-packages (from marvin) (13.4.2)\n",
      "Requirement already satisfied: pydantic[dotenv]<2.0.0,>=1.10.9 in /opt/conda/lib/python3.9/site-packages (from marvin) (1.10.11)\n",
      "Requirement already satisfied: tiktoken>=0.4.0 in /opt/conda/lib/python3.9/site-packages (from marvin) (0.4.0)\n",
      "Requirement already satisfied: jsonpatch>=1.33 in /opt/conda/lib/python3.9/site-packages (from marvin) (1.33)\n",
      "Requirement already satisfied: jinja2>=3.1.2 in /opt/conda/lib/python3.9/site-packages (from marvin) (3.1.2)\n",
      "Requirement already satisfied: openai>=0.27.8 in /opt/conda/lib/python3.9/site-packages (from marvin) (0.27.8)\n",
      "Requirement already satisfied: fastapi>=0.98.0 in /opt/conda/lib/python3.9/site-packages (from marvin) (0.100.0)\n",
      "Requirement already satisfied: beautifulsoup4>=4.12.2 in /opt/conda/lib/python3.9/site-packages (from marvin) (4.12.2)\n",
      "Requirement already satisfied: soupsieve>1.2 in /opt/conda/lib/python3.9/site-packages (from beautifulsoup4>=4.12.2->marvin) (2.3.2.post1)\n",
      "Requirement already satisfied: starlette<0.28.0,>=0.27.0 in /opt/conda/lib/python3.9/site-packages (from fastapi>=0.98.0->marvin) (0.27.0)\n",
      "Requirement already satisfied: typing-extensions>=4.5.0 in /opt/conda/lib/python3.9/site-packages (from fastapi>=0.98.0->marvin) (4.7.1)\n",
      "Requirement already satisfied: httpcore<0.18.0,>=0.15.0 in /opt/conda/lib/python3.9/site-packages (from httpx>=0.24.1->marvin) (0.17.3)\n",
      "Requirement already satisfied: certifi in /opt/conda/lib/python3.9/site-packages (from httpx>=0.24.1->marvin) (2022.9.24)\n",
      "Requirement already satisfied: idna in /opt/conda/lib/python3.9/site-packages (from httpx>=0.24.1->marvin) (3.4)\n",
      "Requirement already satisfied: sniffio in /opt/conda/lib/python3.9/site-packages (from httpx>=0.24.1->marvin) (1.3.0)\n",
      "Requirement already satisfied: MarkupSafe>=2.0 in /opt/conda/lib/python3.9/site-packages (from jinja2>=3.1.2->marvin) (2.1.1)\n",
      "Requirement already satisfied: jsonpointer>=1.9 in /opt/conda/lib/python3.9/site-packages (from jsonpatch>=1.33->marvin) (2.4)\n",
      "Requirement already satisfied: tqdm in /opt/conda/lib/python3.9/site-packages (from openai>=0.27.8->marvin) (4.64.1)\n",
      "Requirement already satisfied: aiohttp in /opt/conda/lib/python3.9/site-packages (from openai>=0.27.8->marvin) (3.8.4)\n",
      "Requirement already satisfied: requests>=2.20 in /opt/conda/lib/python3.9/site-packages (from openai>=0.27.8->marvin) (2.28.1)\n",
      "Requirement already satisfied: python-dotenv>=0.10.4 in /opt/conda/lib/python3.9/site-packages (from pydantic[dotenv]<2.0.0,>=1.10.9->marvin) (1.0.0)\n",
      "Requirement already satisfied: markdown-it-py>=2.2.0 in /opt/conda/lib/python3.9/site-packages (from rich>=12->marvin) (3.0.0)\n",
      "Requirement already satisfied: pygments<3.0.0,>=2.13.0 in /opt/conda/lib/python3.9/site-packages (from rich>=12->marvin) (2.13.0)\n",
      "Requirement already satisfied: regex>=2022.1.18 in /opt/conda/lib/python3.9/site-packages (from tiktoken>=0.4.0->marvin) (2023.6.3)\n",
      "Requirement already satisfied: click<9.0.0,>=7.1.1 in /opt/conda/lib/python3.9/site-packages (from typer>=0.9.0->marvin) (8.1.3)\n",
      "Requirement already satisfied: h11>=0.8 in /opt/conda/lib/python3.9/site-packages (from uvicorn>=0.22.0->marvin) (0.14.0)\n",
      "Requirement already satisfied: anyio<5.0,>=3.0 in /opt/conda/lib/python3.9/site-packages (from httpcore<0.18.0,>=0.15.0->httpx>=0.24.1->marvin) (3.6.1)\n",
      "Requirement already satisfied: mdurl~=0.1 in /opt/conda/lib/python3.9/site-packages (from markdown-it-py>=2.2.0->rich>=12->marvin) (0.1.2)\n",
      "Requirement already satisfied: charset-normalizer<3,>=2 in /opt/conda/lib/python3.9/site-packages (from requests>=2.20->openai>=0.27.8->marvin) (2.1.1)\n",
      "Requirement already satisfied: urllib3<1.27,>=1.21.1 in /opt/conda/lib/python3.9/site-packages (from requests>=2.20->openai>=0.27.8->marvin) (1.26.11)\n",
      "Requirement already satisfied: async-timeout<5.0,>=4.0.0a3 in /opt/conda/lib/python3.9/site-packages (from aiohttp->openai>=0.27.8->marvin) (4.0.2)\n",
      "Requirement already satisfied: attrs>=17.3.0 in /opt/conda/lib/python3.9/site-packages (from aiohttp->openai>=0.27.8->marvin) (22.1.0)\n",
      "Requirement already satisfied: frozenlist>=1.1.1 in /opt/conda/lib/python3.9/site-packages (from aiohttp->openai>=0.27.8->marvin) (1.4.0)\n",
      "Requirement already satisfied: multidict<7.0,>=4.5 in /opt/conda/lib/python3.9/site-packages (from aiohttp->openai>=0.27.8->marvin) (6.0.4)\n",
      "Requirement already satisfied: yarl<2.0,>=1.0 in /opt/conda/lib/python3.9/site-packages (from aiohttp->openai>=0.27.8->marvin) (1.9.2)\n",
      "Requirement already satisfied: aiosignal>=1.1.2 in /opt/conda/lib/python3.9/site-packages (from aiohttp->openai>=0.27.8->marvin) (1.3.1)\n"
     ]
    }
   ],
   "source": [
    "!pip install marvin"
   ]
  },
  {
   "cell_type": "code",
   "execution_count": 14,
   "id": "7c22bdd4-768f-44e9-8cc9-0a17281c51ed",
   "metadata": {},
   "outputs": [],
   "source": [
    "import datetime\n",
    "from typing import Optional, List\n",
    "from pydantic import BaseModel\n",
    "from marvin import ai_model"
   ]
  },
  {
   "cell_type": "code",
   "execution_count": 15,
   "id": "8e991fa1-0db4-4446-9020-43c2c58d4585",
   "metadata": {},
   "outputs": [],
   "source": [
    "class Client(BaseModel):\n",
    "    name: str\n",
    "    email: str\n",
    "    phone: Optional[str]\n",
    "    \n",
    "class Issue(BaseModel):\n",
    "    problem: str\n",
    "    device: str\n",
    "\n",
    "@ai_model\n",
    "class Ticket(BaseModel):\n",
    "    created: datetime.date\n",
    "    client: Client\n",
    "    title: str\n",
    "    issues: List[Issue]"
   ]
  },
  {
   "cell_type": "code",
   "execution_count": 16,
   "id": "57233630-478c-46e3-a783-2509dfd621e3",
   "metadata": {},
   "outputs": [
    {
     "name": "stdout",
     "output_type": "stream",
     "text": [
      "{\n",
      "  \"created\": \"2023-07-15\",\n",
      "  \"client\": {\n",
      "    \"name\": \"Jane Smith\",\n",
      "    \"email\": \"jane.smith@email.com\",\n",
      "    \"phone\": \"\"\n",
      "  },\n",
      "  \"title\": \"Disappointment with My Gizmo 3000 and Widget Pro Devices\",\n",
      "  \"issues\": [\n",
      "    {\n",
      "      \"problem\": \"Short battery life and irresponsive touchscreen\",\n",
      "      \"device\": \"Gizmo 3000\"\n",
      "    },\n",
      "    {\n",
      "      \"problem\": \"Constant connectivity issues and random shutdowns\",\n",
      "      \"device\": \"Widget Pro\"\n",
      "    }\n",
      "  ]\n",
      "}\n"
     ]
    }
   ],
   "source": [
    "print(Ticket(\"\"\"\\\n",
    "    Subject: Disappointment with My Gizmo 3000 and Widget Pro Devices (2023-07-15)\n",
    "\n",
    "    Dear Gizmo and Widget Support Teams,\n",
    "\n",
    "    I am disappointed with my recently purchased Gizmo 3000 and Widget Pro devices due\n",
    "    to several issues.\n",
    "\n",
    "    The Gizmo 3000's battery life is short, lasting only 4 hours, and the touchscreen\n",
    "    is irresponsive. Meanwhile, the Widget Pro has constant connectivity issues and\n",
    "    random shutdowns.\n",
    "\n",
    "    I've contacted both support teams but have experienced long wait times and unhelpful\n",
    "    representatives. I request prompt resolution, such as replacements, refunds, or\n",
    "    effective troubleshooting.\n",
    "\n",
    "    Sincerely,\n",
    "\n",
    "    Jane Smith\n",
    "    jane.smith@email.com\n",
    "\"\"\").json(indent=2))"
   ]
  },
  {
   "cell_type": "markdown",
   "id": "5f809168-931b-42e4-aadd-15c7035c8fa5",
   "metadata": {},
   "source": [
    "# openai_function_calls"
   ]
  },
  {
   "cell_type": "code",
   "execution_count": 17,
   "id": "86252778-db6e-4515-864f-ee29ec12a3c6",
   "metadata": {},
   "outputs": [
    {
     "name": "stdout",
     "output_type": "stream",
     "text": [
      "Requirement already satisfied: openai-function-call in /opt/conda/lib/python3.9/site-packages (0.1.1)\n",
      "Requirement already satisfied: openai<0.28.0,>=0.27.8 in /opt/conda/lib/python3.9/site-packages (from openai-function-call) (0.27.8)\n",
      "Requirement already satisfied: pydantic<2.0.0,>=1.10.9 in /opt/conda/lib/python3.9/site-packages (from openai-function-call) (1.10.11)\n",
      "Requirement already satisfied: aiohttp in /opt/conda/lib/python3.9/site-packages (from openai<0.28.0,>=0.27.8->openai-function-call) (3.8.4)\n",
      "Requirement already satisfied: tqdm in /opt/conda/lib/python3.9/site-packages (from openai<0.28.0,>=0.27.8->openai-function-call) (4.64.1)\n",
      "Requirement already satisfied: requests>=2.20 in /opt/conda/lib/python3.9/site-packages (from openai<0.28.0,>=0.27.8->openai-function-call) (2.28.1)\n",
      "Requirement already satisfied: typing-extensions>=4.2.0 in /opt/conda/lib/python3.9/site-packages (from pydantic<2.0.0,>=1.10.9->openai-function-call) (4.7.1)\n",
      "Requirement already satisfied: charset-normalizer<3,>=2 in /opt/conda/lib/python3.9/site-packages (from requests>=2.20->openai<0.28.0,>=0.27.8->openai-function-call) (2.1.1)\n",
      "Requirement already satisfied: certifi>=2017.4.17 in /opt/conda/lib/python3.9/site-packages (from requests>=2.20->openai<0.28.0,>=0.27.8->openai-function-call) (2022.9.24)\n",
      "Requirement already satisfied: urllib3<1.27,>=1.21.1 in /opt/conda/lib/python3.9/site-packages (from requests>=2.20->openai<0.28.0,>=0.27.8->openai-function-call) (1.26.11)\n",
      "Requirement already satisfied: idna<4,>=2.5 in /opt/conda/lib/python3.9/site-packages (from requests>=2.20->openai<0.28.0,>=0.27.8->openai-function-call) (3.4)\n",
      "Requirement already satisfied: async-timeout<5.0,>=4.0.0a3 in /opt/conda/lib/python3.9/site-packages (from aiohttp->openai<0.28.0,>=0.27.8->openai-function-call) (4.0.2)\n",
      "Requirement already satisfied: frozenlist>=1.1.1 in /opt/conda/lib/python3.9/site-packages (from aiohttp->openai<0.28.0,>=0.27.8->openai-function-call) (1.4.0)\n",
      "Requirement already satisfied: multidict<7.0,>=4.5 in /opt/conda/lib/python3.9/site-packages (from aiohttp->openai<0.28.0,>=0.27.8->openai-function-call) (6.0.4)\n",
      "Requirement already satisfied: attrs>=17.3.0 in /opt/conda/lib/python3.9/site-packages (from aiohttp->openai<0.28.0,>=0.27.8->openai-function-call) (22.1.0)\n",
      "Requirement already satisfied: yarl<2.0,>=1.0 in /opt/conda/lib/python3.9/site-packages (from aiohttp->openai<0.28.0,>=0.27.8->openai-function-call) (1.9.2)\n",
      "Requirement already satisfied: aiosignal>=1.1.2 in /opt/conda/lib/python3.9/site-packages (from aiohttp->openai<0.28.0,>=0.27.8->openai-function-call) (1.3.1)\n"
     ]
    }
   ],
   "source": [
    "!pip install openai-function-call"
   ]
  },
  {
   "cell_type": "code",
   "execution_count": 18,
   "id": "c51dcb4f-766a-4ba3-81dc-6da8dab5fe5d",
   "metadata": {},
   "outputs": [],
   "source": [
    "from openai_function_call import OpenAISchema\n",
    "from pydantic import Field\n",
    "import openai"
   ]
  },
  {
   "cell_type": "code",
   "execution_count": 19,
   "id": "f963ec43-0821-47f4-ab5a-f8e10257b296",
   "metadata": {},
   "outputs": [],
   "source": [
    "class Technology(BaseModel):\n",
    "    name: str = Field(..., description=\"one specific technology (like a language, framework, platform)\")\n",
    "    category: str\n",
    "\n",
    "class WorkExperience(BaseModel):\n",
    "    role: str\n",
    "    company: str\n",
    "    start_date: str\n",
    "    end_date: str\n",
    "    responsibilities: List[str]\n",
    "\n",
    "class Education(BaseModel):\n",
    "    degree: str\n",
    "    institution: str\n",
    "    location: str\n",
    "    start_date: str\n",
    "    end_date: str\n",
    "\n",
    "class Language(BaseModel):\n",
    "    name: str\n",
    "    level: str\n",
    "\n",
    "class Resume(OpenAISchema):\n",
    "    \"Correctly extracted information from a resume\"\n",
    "    name: str\n",
    "    contact_information: str\n",
    "    objective_statement: str\n",
    "    other_skills: List[str] = Field(..., description=\"name of a non-technical specific skill (like 'teamwork', 'empathy')\")\n",
    "    technologies: List[Technology]\n",
    "    work_experience: List[WorkExperience]\n",
    "    education: List[Education]\n",
    "    certifications: List[str]\n",
    "    language: List[Language]\n",
    "    references: Optional[str]"
   ]
  },
  {
   "cell_type": "code",
   "execution_count": 20,
   "id": "c023f078-45d7-4202-91e4-0adf2ee07eda",
   "metadata": {},
   "outputs": [],
   "source": [
    "def parse_resume(resume: str) -> Resume:\n",
    "    completion = openai.ChatCompletion.create(\n",
    "        model=\"gpt-3.5-turbo-0613\",\n",
    "        functions=[Resume.openai_schema],\n",
    "        function_call={\"name\": Resume.openai_schema[\"name\"]},\n",
    "        messages=[\n",
    "            {\"role\": \"system\", \"content\": \"Extract all the information fot the resume provided\"},\n",
    "            {\"role\": \"user\", \"content\": resume},\n",
    "        ],\n",
    "    )\n",
    "    return Resume.from_response(completion)"
   ]
  },
  {
   "cell_type": "code",
   "execution_count": 21,
   "id": "67f319aa-0f4a-4471-a37f-1a8f3d3400ed",
   "metadata": {},
   "outputs": [],
   "source": [
    "resume = \"\"\"\n",
    "    **John Doe**\n",
    "\n",
    "    1234 Main Street, San Francisco, CA 94101 | (123) 456-7890 | john.doe@email.com | LinkedIn: /in/johndoe\n",
    "\n",
    "    **Objective**\n",
    "\n",
    "    Highly motivated Software Engineer specializing in Machine Learning, Artificial Intelligence, and MLOps, seeking to leverage extensive background in software development, data science, and AI systems in a challenging new role.\n",
    "\n",
    "    **Skills**\n",
    "\n",
    "    - Proficiency in Python, Java, and C++\n",
    "    - Experience in Machine Learning and Deep Learning frameworks (TensorFlow, PyTorch, Keras)\n",
    "    - Expertise in MLOps tools (Kubeflow, Docker, Jenkins)\n",
    "    - Knowledge of cloud platforms (AWS, Google Cloud, Azure)\n",
    "    - Experience with Big Data tools (Hadoop, Spark)\n",
    "    - Excellent problem-solving skills and attention to detail\n",
    "\n",
    "    **Work Experience**\n",
    "\n",
    "    **Software Engineer, Machine Learning**\n",
    "    Google, Mountain View, CA | June 2019 – Present\n",
    "\n",
    "    - Designed and implemented ML models for various Google services, improving prediction accuracy by 20%.\n",
    "    - Deployed robust ML pipelines using MLOps best practices.\n",
    "    - Coordinated cross-functional teams to integrate ML models into product offerings.\n",
    "    - Optimized machine learning algorithms to enhance system performance.\n",
    "\n",
    "    **Software Engineer, AI**\n",
    "    Microsoft, Redmond, WA | August 2016 – May 2019\n",
    "\n",
    "    - Participated in the development of AI models for various Microsoft products.\n",
    "    - Assisted in the establishment of the company's MLOps framework.\n",
    "    - Created reusable code and libraries for future use.\n",
    "    - Improved efficiency of existing systems by implementing AI solutions.\n",
    "\n",
    "    **Junior Software Developer**\n",
    "    IBM, Armonk, NY | July 2014 – July 2016\n",
    "\n",
    "    - Developed and maintained software applications.\n",
    "    - Collaborated with senior engineers to develop machine learning capabilities.\n",
    "    - Assisted in bug fixing and improving application performance.\n",
    "\n",
    "    **Education**\n",
    "\n",
    "    **Master of Science in Computer Science (Specialization in AI)**\n",
    "    Stanford University, Stanford, CA | 2012 – 2014\n",
    "\n",
    "    **Bachelor of Science in Computer Science**\n",
    "    University of California, Berkeley, CA | 2008 – 2012\n",
    "\n",
    "    **Certifications**\n",
    "\n",
    "    - Certified TensorFlow Developer – TensorFlow\n",
    "    - Certified Professional in AI & ML – Microsoft\n",
    "    - Certified Solutions Architect – Amazon Web Services\n",
    "\n",
    "    **Languages**\n",
    "\n",
    "    - English (native)\n",
    "    - Spanish (fluent)\n",
    "\"\"\""
   ]
  },
  {
   "cell_type": "code",
   "execution_count": 22,
   "id": "5e037e6f-84ce-4951-bbbf-4a926e5b2441",
   "metadata": {},
   "outputs": [
    {
     "name": "stdout",
     "output_type": "stream",
     "text": [
      "{\n",
      "  \"name\": \"John Doe\",\n",
      "  \"contact_information\": \"1234 Main Street, San Francisco, CA 94101 | (123) 456-7890 | john.doe@email.com | LinkedIn: /in/johndoe\",\n",
      "  \"objective_statement\": \"Highly motivated Software Engineer specializing in Machine Learning, Artificial Intelligence, and MLOps, seeking to leverage extensive background in software development, data science, and AI systems in a challenging new role.\",\n",
      "  \"other_skills\": [\n",
      "    \"Proficiency in Python, Java, and C++\",\n",
      "    \"Experience in Machine Learning and Deep Learning frameworks (TensorFlow, PyTorch, Keras)\",\n",
      "    \"Expertise in MLOps tools (Kubeflow, Docker, Jenkins)\",\n",
      "    \"Knowledge of cloud platforms (AWS, Google Cloud, Azure)\",\n",
      "    \"Experience with Big Data tools (Hadoop, Spark)\",\n",
      "    \"Excellent problem-solving skills and attention to detail\"\n",
      "  ],\n",
      "  \"technologies\": [\n",
      "    {\n",
      "      \"name\": \"Python\",\n",
      "      \"category\": \"Programming Languages\"\n",
      "    },\n",
      "    {\n",
      "      \"name\": \"Java\",\n",
      "      \"category\": \"Programming Languages\"\n",
      "    },\n",
      "    {\n",
      "      \"name\": \"C++\",\n",
      "      \"category\": \"Programming Languages\"\n",
      "    },\n",
      "    {\n",
      "      \"name\": \"TensorFlow\",\n",
      "      \"category\": \"Machine Learning Frameworks\"\n",
      "    },\n",
      "    {\n",
      "      \"name\": \"PyTorch\",\n",
      "      \"category\": \"Machine Learning Frameworks\"\n",
      "    },\n",
      "    {\n",
      "      \"name\": \"Keras\",\n",
      "      \"category\": \"Machine Learning Frameworks\"\n",
      "    },\n",
      "    {\n",
      "      \"name\": \"Kubeflow\",\n",
      "      \"category\": \"MLOps Tools\"\n",
      "    },\n",
      "    {\n",
      "      \"name\": \"Docker\",\n",
      "      \"category\": \"MLOps Tools\"\n",
      "    },\n",
      "    {\n",
      "      \"name\": \"Jenkins\",\n",
      "      \"category\": \"MLOps Tools\"\n",
      "    },\n",
      "    {\n",
      "      \"name\": \"AWS\",\n",
      "      \"category\": \"Cloud Platforms\"\n",
      "    },\n",
      "    {\n",
      "      \"name\": \"Google Cloud\",\n",
      "      \"category\": \"Cloud Platforms\"\n",
      "    },\n",
      "    {\n",
      "      \"name\": \"Azure\",\n",
      "      \"category\": \"Cloud Platforms\"\n",
      "    },\n",
      "    {\n",
      "      \"name\": \"Hadoop\",\n",
      "      \"category\": \"Big Data Tools\"\n",
      "    },\n",
      "    {\n",
      "      \"name\": \"Spark\",\n",
      "      \"category\": \"Big Data Tools\"\n",
      "    }\n",
      "  ],\n",
      "  \"work_experience\": [\n",
      "    {\n",
      "      \"role\": \"Software Engineer, Machine Learning\",\n",
      "      \"company\": \"Google\",\n",
      "      \"start_date\": \"June 2019\",\n",
      "      \"end_date\": \"Present\",\n",
      "      \"responsibilities\": [\n",
      "        \"Designed and implemented ML models for various Google services, improving prediction accuracy by 20%.\",\n",
      "        \"Deployed robust ML pipelines using MLOps best practices.\",\n",
      "        \"Coordinated cross-functional teams to integrate ML models into product offerings.\",\n",
      "        \"Optimized machine learning algorithms to enhance system performance.\"\n",
      "      ]\n",
      "    },\n",
      "    {\n",
      "      \"role\": \"Software Engineer, AI\",\n",
      "      \"company\": \"Microsoft\",\n",
      "      \"start_date\": \"August 2016\",\n",
      "      \"end_date\": \"May 2019\",\n",
      "      \"responsibilities\": [\n",
      "        \"Participated in the development of AI models for various Microsoft products.\",\n",
      "        \"Assisted in the establishment of the company's MLOps framework.\",\n",
      "        \"Created reusable code and libraries for future use.\",\n",
      "        \"Improved efficiency of existing systems by implementing AI solutions.\"\n",
      "      ]\n",
      "    },\n",
      "    {\n",
      "      \"role\": \"Junior Software Developer\",\n",
      "      \"company\": \"IBM\",\n",
      "      \"start_date\": \"July 2014\",\n",
      "      \"end_date\": \"July 2016\",\n",
      "      \"responsibilities\": [\n",
      "        \"Developed and maintained software applications.\",\n",
      "        \"Collaborated with senior engineers to develop machine learning capabilities.\",\n",
      "        \"Assisted in bug fixing and improving application performance.\"\n",
      "      ]\n",
      "    }\n",
      "  ],\n",
      "  \"education\": [\n",
      "    {\n",
      "      \"degree\": \"Master of Science in Computer Science (Specialization in AI)\",\n",
      "      \"institution\": \"Stanford University\",\n",
      "      \"location\": \"Stanford, CA\",\n",
      "      \"start_date\": \"2012\",\n",
      "      \"end_date\": \"2014\"\n",
      "    },\n",
      "    {\n",
      "      \"degree\": \"Bachelor of Science in Computer Science\",\n",
      "      \"institution\": \"University of California\",\n",
      "      \"location\": \"Berkeley, CA\",\n",
      "      \"start_date\": \"2008\",\n",
      "      \"end_date\": \"2012\"\n",
      "    }\n",
      "  ],\n",
      "  \"certifications\": [\n",
      "    \"Certified TensorFlow Developer \\u2013 TensorFlow\",\n",
      "    \"Certified Professional in AI & ML \\u2013 Microsoft\",\n",
      "    \"Certified Solutions Architect \\u2013 Amazon Web Services\"\n",
      "  ],\n",
      "  \"language\": [\n",
      "    {\n",
      "      \"name\": \"English\",\n",
      "      \"level\": \"native\"\n",
      "    },\n",
      "    {\n",
      "      \"name\": \"Spanish\",\n",
      "      \"level\": \"fluent\"\n",
      "    }\n",
      "  ],\n",
      "  \"references\": \"\"\n",
      "}\n"
     ]
    }
   ],
   "source": [
    "print(parse_resume(resume).json(indent=2))"
   ]
  },
  {
   "cell_type": "code",
   "execution_count": null,
   "id": "80feb97e-4afd-4bc9-a512-2f4b1357c0f6",
   "metadata": {},
   "outputs": [],
   "source": []
  }
 ],
 "metadata": {
  "kernelspec": {
   "display_name": "Python 3 (ipykernel)",
   "language": "python",
   "name": "python3"
  },
  "language_info": {
   "codemirror_mode": {
    "name": "ipython",
    "version": 3
   },
   "file_extension": ".py",
   "mimetype": "text/x-python",
   "name": "python",
   "nbconvert_exporter": "python",
   "pygments_lexer": "ipython3",
   "version": "3.9.13"
  }
 },
 "nbformat": 4,
 "nbformat_minor": 5
}
